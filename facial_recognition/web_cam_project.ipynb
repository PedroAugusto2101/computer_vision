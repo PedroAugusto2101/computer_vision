{
 "cells": [
  {
   "cell_type": "code",
   "execution_count": 2,
   "metadata": {},
   "outputs": [],
   "source": [
    "import cv2 #opencv\n",
    "import mediapipe as mp\n",
    "\n",
    "# inicializar o opencv e o mediapipe\n",
    "webcam = cv2.VideoCapture(0) #webcam dafault -> 0\n",
    "solucao_reconhecimento_rosto = mp.solutions.face_detection\n",
    "reconhecedor_rostos = solucao_reconhecimento_rosto.FaceDetection()\n",
    "desenho = mp.solutions.drawing_utils\n",
    "\n",
    "while True:\n",
    "    # Ler as informações da webcam\n",
    "    verificador, frame = webcam.read()\n",
    "    if not verificador:\n",
    "        break\n",
    "\n",
    "    # reconhecer os rostos que tem ali dentro\n",
    "    lista_rostos = reconhecedor_rostos.process(frame)\n",
    "\n",
    "    if lista_rostos.detections:\n",
    "        for rosto in lista_rostos.detections:\n",
    "\n",
    "            # desenhar os rostos na imagem\n",
    "            desenho.draw_detection(frame, rosto)\n",
    "\n",
    "    cv2.imshow(\"Rostos na Webcam\", frame)\n",
    "\n",
    "    # quando apertar ESC, para o Loop\n",
    "    if cv2.waitKey(5) == 27: # o código da tecla ESC é o 27\n",
    "        break\n",
    "            \n",
    "# é necessário fechar a webcam ao final            \n",
    "webcam.release()\n",
    "cv2.destroyAllWindows()"
   ]
  }
 ],
 "metadata": {
  "kernelspec": {
   "display_name": "Python 3",
   "language": "python",
   "name": "python3"
  },
  "language_info": {
   "codemirror_mode": {
    "name": "ipython",
    "version": 3
   },
   "file_extension": ".py",
   "mimetype": "text/x-python",
   "name": "python",
   "nbconvert_exporter": "python",
   "pygments_lexer": "ipython3",
   "version": "3.11.3"
  }
 },
 "nbformat": 4,
 "nbformat_minor": 2
}
